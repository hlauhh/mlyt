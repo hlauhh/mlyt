{
 "cells": [
  {
   "cell_type": "code",
   "id": "initial_id",
   "metadata": {
    "collapsed": true,
    "ExecuteTime": {
     "end_time": "2024-12-28T15:00:48.723750Z",
     "start_time": "2024-12-28T15:00:48.719892Z"
    }
   },
   "source": "import os",
   "outputs": [],
   "execution_count": 1
  },
  {
   "metadata": {
    "ExecuteTime": {
     "end_time": "2024-12-28T15:00:48.735799Z",
     "start_time": "2024-12-28T15:00:48.730757Z"
    }
   },
   "cell_type": "code",
   "source": "%pwd",
   "id": "acad7ce27fe13c28",
   "outputs": [
    {
     "data": {
      "text/plain": [
       "'C:\\\\Users\\\\Howard\\\\PycharmProjects\\\\mlyt\\\\research'"
      ]
     },
     "execution_count": 2,
     "metadata": {},
     "output_type": "execute_result"
    }
   ],
   "execution_count": 2
  },
  {
   "metadata": {
    "ExecuteTime": {
     "end_time": "2024-12-28T15:00:48.840674Z",
     "start_time": "2024-12-28T15:00:48.837815Z"
    }
   },
   "cell_type": "code",
   "source": "os.chdir(\"../\")",
   "id": "57d1b53d90039226",
   "outputs": [],
   "execution_count": 3
  },
  {
   "metadata": {
    "ExecuteTime": {
     "end_time": "2024-12-28T15:00:48.851212Z",
     "start_time": "2024-12-28T15:00:48.847698Z"
    }
   },
   "cell_type": "code",
   "source": "%pwd",
   "id": "c54ab5cb18a96d76",
   "outputs": [
    {
     "data": {
      "text/plain": [
       "'C:\\\\Users\\\\Howard\\\\PycharmProjects\\\\mlyt'"
      ]
     },
     "execution_count": 4,
     "metadata": {},
     "output_type": "execute_result"
    }
   ],
   "execution_count": 4
  },
  {
   "metadata": {
    "ExecuteTime": {
     "end_time": "2024-12-28T15:00:49.158340Z",
     "start_time": "2024-12-28T15:00:48.865539Z"
    }
   },
   "cell_type": "code",
   "source": "import pandas as pd",
   "id": "f4c2c066f9e1601f",
   "outputs": [],
   "execution_count": 5
  },
  {
   "metadata": {
    "ExecuteTime": {
     "end_time": "2024-12-28T15:00:49.168665Z",
     "start_time": "2024-12-28T15:00:49.165267Z"
    }
   },
   "cell_type": "code",
   "source": [
    "from dataclasses import dataclass\n",
    "from pathlib import Path\n",
    "\n",
    "\n",
    "@dataclass(frozen=True)\n",
    "class DataValidationConfig:\n",
    "    root_dir: Path\n",
    "    STATUS_FILE: str\n",
    "    unzip_data_dir: Path\n",
    "    all_schema: dict"
   ],
   "id": "e3ed0e56d328a4d4",
   "outputs": [],
   "execution_count": 6
  },
  {
   "metadata": {
    "ExecuteTime": {
     "end_time": "2024-12-28T15:00:49.230101Z",
     "start_time": "2024-12-28T15:00:49.177756Z"
    }
   },
   "cell_type": "code",
   "source": [
    "from mlProject.constants import *\n",
    "from mlProject.utils.common import read_yaml, create_directories"
   ],
   "id": "897f91752c429d11",
   "outputs": [],
   "execution_count": 7
  },
  {
   "metadata": {
    "ExecuteTime": {
     "end_time": "2024-12-28T15:00:49.243730Z",
     "start_time": "2024-12-28T15:00:49.239466Z"
    }
   },
   "cell_type": "code",
   "source": [
    "class ConfigurationManager:\n",
    "    def __init__(\n",
    "        self,\n",
    "        config_filepath = CONFIG_FILE_PATH,\n",
    "        params_filepath = PARAMS_FILE_PATH,\n",
    "        schema_filepath = SCHEMA_FILE_PATH):\n",
    "\n",
    "        self.config = read_yaml(config_filepath)\n",
    "        self.params = read_yaml(params_filepath)\n",
    "        self.schema = read_yaml(schema_filepath)\n",
    "\n",
    "        create_directories([self.config.artifacts_root])\n",
    "\n",
    "\n",
    "\n",
    "    def get_data_validation_config(self) -> DataValidationConfig:\n",
    "        config = self.config.data_validation\n",
    "        schema = self.schema.COLUMNS\n",
    "\n",
    "        create_directories([config.root_dir])\n",
    "\n",
    "        data_validation_config = DataValidationConfig(\n",
    "            root_dir=config.root_dir,\n",
    "            STATUS_FILE=config.STATUS_FILE,\n",
    "            unzip_data_dir = config.unzip_data_dir,\n",
    "            all_schema=schema,\n",
    "        )\n",
    "\n",
    "        return data_validation_config\n"
   ],
   "id": "f187869474880699",
   "outputs": [],
   "execution_count": 8
  },
  {
   "metadata": {
    "ExecuteTime": {
     "end_time": "2024-12-28T15:00:49.252086Z",
     "start_time": "2024-12-28T15:00:49.249172Z"
    }
   },
   "cell_type": "code",
   "source": [
    "import os\n",
    "from mlProject import logger"
   ],
   "id": "c383a3abf4dd258d",
   "outputs": [],
   "execution_count": 9
  },
  {
   "metadata": {
    "ExecuteTime": {
     "end_time": "2024-12-28T15:00:49.267687Z",
     "start_time": "2024-12-28T15:00:49.261883Z"
    }
   },
   "cell_type": "code",
   "source": [
    "class DataValidation:\n",
    "    def __init__(self, config: DataValidationConfig):\n",
    "        self.config = config\n",
    "\n",
    "\n",
    "    def validate_all_columns(self)-> bool:\n",
    "        try:\n",
    "            validation_status = None\n",
    "\n",
    "            data = pd.read_csv(self.config.unzip_data_dir)\n",
    "            all_cols = list(data.columns)\n",
    "\n",
    "            all_schema = self.config.all_schema.keys()\n",
    "\n",
    "            # Can add logic for checking datatype\n",
    "            for col in all_cols:\n",
    "                if col not in all_schema:\n",
    "                    validation_status = False\n",
    "                    with open(self.config.STATUS_FILE, 'w') as f:\n",
    "                        f.write(f\"Validation status: {validation_status}\")\n",
    "                else:\n",
    "                    validation_status = True\n",
    "                    with open(self.config.STATUS_FILE, 'w') as f:\n",
    "                        f.write(f\"Validation status: {validation_status}\")\n",
    "\n",
    "            return validation_status\n",
    "\n",
    "        except Exception as e:\n",
    "            raise e"
   ],
   "id": "927656c7d0ca3b73",
   "outputs": [],
   "execution_count": 10
  },
  {
   "metadata": {
    "ExecuteTime": {
     "end_time": "2024-12-28T15:00:49.295940Z",
     "start_time": "2024-12-28T15:00:49.279055Z"
    }
   },
   "cell_type": "code",
   "source": [
    "try:\n",
    "    config = ConfigurationManager()\n",
    "    data_validation_config = config.get_data_validation_config()\n",
    "    data_validation = DataValidation(config=data_validation_config)\n",
    "    data_validation.validate_all_columns()\n",
    "except Exception as e:\n",
    "    raise e"
   ],
   "id": "add4336236b1f194",
   "outputs": [
    {
     "name": "stdout",
     "output_type": "stream",
     "text": [
      "[2024-12-28 23:00:49,283: INFO: common: yaml file: config\\config.yaml loaded successfully]\n",
      "[2024-12-28 23:00:49,284: INFO: common: yaml file: params.yaml loaded successfully]\n",
      "[2024-12-28 23:00:49,286: INFO: common: yaml file: schema.yaml loaded successfully]\n",
      "[2024-12-28 23:00:49,287: INFO: common: created directory at: artifacts]\n",
      "[2024-12-28 23:00:49,288: INFO: common: created directory at: artifacts/data_validation]\n"
     ]
    }
   ],
   "execution_count": 11
  }
 ],
 "metadata": {
  "kernelspec": {
   "display_name": "Python 3",
   "language": "python",
   "name": "python3"
  },
  "language_info": {
   "codemirror_mode": {
    "name": "ipython",
    "version": 2
   },
   "file_extension": ".py",
   "mimetype": "text/x-python",
   "name": "python",
   "nbconvert_exporter": "python",
   "pygments_lexer": "ipython2",
   "version": "2.7.6"
  }
 },
 "nbformat": 4,
 "nbformat_minor": 5
}
